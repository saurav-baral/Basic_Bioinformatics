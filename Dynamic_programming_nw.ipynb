{
  "nbformat": 4,
  "nbformat_minor": 0,
  "metadata": {
    "colab": {
      "name": "Dynamic programming_nw.ipynb",
      "provenance": [],
      "authorship_tag": "ABX9TyMPNGUvk4zOJxYgA5U4bl9z",
      "include_colab_link": true
    },
    "kernelspec": {
      "name": "python3",
      "display_name": "Python 3"
    },
    "language_info": {
      "name": "python"
    }
  },
  "cells": [
    {
      "cell_type": "markdown",
      "metadata": {
        "id": "view-in-github",
        "colab_type": "text"
      },
      "source": [
        "<a href=\"https://colab.research.google.com/github/saurav-baral/Basic_Bioinformatics/blob/main/Dynamic_programming_nw.ipynb\" target=\"_parent\"><img src=\"https://colab.research.google.com/assets/colab-badge.svg\" alt=\"Open In Colab\"/></a>"
      ]
    },
    {
      "cell_type": "code",
      "metadata": {
        "colab": {
          "base_uri": "https://localhost:8080/"
        },
        "id": "fJBPJbWnQVYl",
        "outputId": "bbf31b63-59be-46cd-c267-47ba3acbe1dd"
      },
      "source": [
        "# seq_1 = \"AATTGGCC\"\n",
        "# seq_2 = \"AATGGCC\"\n",
        "\n",
        "seq_1 = \"ACGT\"\n",
        "seq_2 = \"ACGGCT\"\n",
        "\n",
        "\n",
        "len(seq_1)"
      ],
      "execution_count": 96,
      "outputs": [
        {
          "output_type": "execute_result",
          "data": {
            "text/plain": [
              "4"
            ]
          },
          "metadata": {
            "tags": []
          },
          "execution_count": 96
        }
      ]
    },
    {
      "cell_type": "code",
      "metadata": {
        "id": "FP_NVEmhQv82"
      },
      "source": [
        "#scoring scheme\n",
        "match, mismatch, gap = 2 , -1, -2\n"
      ],
      "execution_count": 97,
      "outputs": []
    },
    {
      "cell_type": "code",
      "metadata": {
        "colab": {
          "base_uri": "https://localhost:8080/"
        },
        "id": "8q71ejjlQ3Q0",
        "outputId": "4ae510b0-044e-4cb5-ea5a-0061eaef46ca"
      },
      "source": [
        "import numpy as np\n",
        "#initialize two matrices\n",
        "score_matrix = np.random.randint(5 ,size = (len(seq_2)+1,len(seq_1)+1))\n",
        "direction_matrix = np.empty((len(seq_2)+1,len(seq_1)+1), dtype=\"str\")\n",
        "print(score_matrix)"
      ],
      "execution_count": 98,
      "outputs": [
        {
          "output_type": "stream",
          "text": [
            "[[2 1 3 4 3]\n",
            " [1 4 1 3 0]\n",
            " [0 1 2 1 4]\n",
            " [3 0 2 1 3]\n",
            " [4 4 1 0 4]\n",
            " [4 4 1 4 0]\n",
            " [2 0 0 2 0]]\n"
          ],
          "name": "stdout"
        }
      ]
    },
    {
      "cell_type": "code",
      "metadata": {
        "colab": {
          "base_uri": "https://localhost:8080/"
        },
        "id": "5dF7osT5RO8j",
        "outputId": "8903a704-46b5-4fbf-e0cf-a4d93f1eb790"
      },
      "source": [
        "#initializing gap\n",
        "for columns in range(len(seq_1)+1):\n",
        "  # print (score_matrix[0,columns])\n",
        "  if columns == 0:\n",
        "    score_matrix[0,columns] = 0\n",
        "  else:\n",
        "    score_matrix [0, columns] = score_matrix [0, columns-1] + gap\n",
        "for row in range(len(seq_2)+1):\n",
        "  if row == 0:\n",
        "    score_matrix[row, 0] = 0\n",
        "  else:\n",
        "    score_matrix[row, 0] = score_matrix[row-1, 0] + gap\n",
        "print (score_matrix)"
      ],
      "execution_count": 99,
      "outputs": [
        {
          "output_type": "stream",
          "text": [
            "[[  0  -2  -4  -6  -8]\n",
            " [ -2   4   1   3   0]\n",
            " [ -4   1   2   1   4]\n",
            " [ -6   0   2   1   3]\n",
            " [ -8   4   1   0   4]\n",
            " [-10   4   1   4   0]\n",
            " [-12   0   0   2   0]]\n"
          ],
          "name": "stdout"
        }
      ]
    },
    {
      "cell_type": "code",
      "metadata": {
        "colab": {
          "base_uri": "https://localhost:8080/"
        },
        "id": "SRbMD51gRQo8",
        "outputId": "b5eddd0e-53ec-4d8d-8be2-03a38613ab11"
      },
      "source": [
        "#initializing gap\n",
        "for columns in range(len(seq_1)+1):\n",
        "  # print (score_matrix[0,columns])\n",
        "  if columns == 0:\n",
        "    score_matrix[0,columns] = 0\n",
        "  else:\n",
        "    score_matrix [0, columns] = score_matrix [0, columns-1] + gap\n",
        "for row in range(len(seq_2)+1):\n",
        "  if row == 0:\n",
        "    score_matrix[row, 0] = 0\n",
        "  else:\n",
        "    score_matrix[row, 0] = score_matrix[row-1, 0] + gap\n",
        "# print (score_matrix)\n",
        "\n",
        "#alignment score\n",
        "for row in range(len(seq_2)+1):\n",
        "  for column in range(len(seq_1)+1):\n",
        "    # print (score_matrix[row,column])\n",
        "    if column < len(seq_1) and row < len(seq_2):\n",
        "      # print (column)\n",
        "      first_seq_base = seq_1[column]\n",
        "      second_seq_base = seq_2[row]\n",
        "      # print(first_seq_base, second_seq_base)\n",
        "      if first_seq_base == second_seq_base:\n",
        "        local_score = match\n",
        "      else:\n",
        "        local_score = mismatch\n",
        "      up_left =(score_matrix[(row+1)-1,(column+1)-1]+local_score) \n",
        "      # print(\"ul :\",up_left)\n",
        "      up =(score_matrix[(row+1)-1,(column+1)]+gap)\n",
        "      # print(\"up:\",up)\n",
        "      left = (score_matrix[(row+1),(column+1)-1]+gap)\n",
        "      # print(\"l:\",left)\n",
        "      score = max(up_left, up, left)\n",
        "      # print (score)\n",
        "      if score == up_left:\n",
        "        # print (\"UL\")\n",
        "        direction = \"D\"\n",
        "      elif score == up:\n",
        "        # print (\"U\")\n",
        "        direction = \"U\"\n",
        "      else:\n",
        "        # print(\"L\")\n",
        "        direction = \"L\"\n",
        "      # print (direction)\n",
        "      score_matrix[(row+1),(column+1)] = score\n",
        "      # print(score_matrix)\n",
        "      direction_matrix[(row+1),(column+1)] = direction\n",
        "      # print(direction_matrix)\n",
        "    # break\n",
        "  # break\n",
        "      # print(score)\n",
        "print (score_matrix,\"\\n\", direction_matrix)"
      ],
      "execution_count": 100,
      "outputs": [
        {
          "output_type": "stream",
          "text": [
            "[[  0  -2  -4  -6  -8]\n",
            " [ -2   2   0  -2  -4]\n",
            " [ -4   0   4   2   0]\n",
            " [ -6  -2   2   6   4]\n",
            " [ -8  -4   0   4   5]\n",
            " [-10  -6  -2   2   3]\n",
            " [-12  -8  -4   0   4]] \n",
            " [['' '' '' '' '']\n",
            " ['' 'D' 'L' 'L' 'L']\n",
            " ['' 'U' 'D' 'L' 'L']\n",
            " ['' 'U' 'U' 'D' 'L']\n",
            " ['' 'U' 'U' 'D' 'D']\n",
            " ['' 'U' 'D' 'U' 'D']\n",
            " ['' 'U' 'U' 'U' 'D']]\n"
          ],
          "name": "stdout"
        }
      ]
    },
    {
      "cell_type": "code",
      "metadata": {
        "colab": {
          "base_uri": "https://localhost:8080/"
        },
        "id": "4PeGlmJVayLf",
        "outputId": "d8a35c12-b297-4182-d199-aaa8324ee1ea"
      },
      "source": [
        "rows, columns = len(seq_2) , len(seq_1)\n",
        "print (rows, columns)\n",
        "aligned_seq_1 = ''\n",
        "aligned_seq_2 = ''\n",
        "while columns >= 1 and rows >= 1:\n",
        "  direction = (direction_matrix[rows,columns])\n",
        "  if direction == \"D\":\n",
        "    aligned_seq_1 = seq_1[columns-1:columns] + aligned_seq_1\n",
        "    aligned_seq_2 = seq_2[rows-1:rows] + aligned_seq_2\n",
        "    rows += -1 \n",
        "    columns += -1\n",
        "  elif direction == \"L\":\n",
        "    aligned_seq_1 = seq_1[columns-1:columns] + aligned_seq_1\n",
        "    aligned_seq_2 = \"-\"+ aligned_seq_2\n",
        "    columns += -1\n",
        "  else:\n",
        "    aligned_seq_1 = \"-\" + aligned_seq_1\n",
        "    aligned_seq_2 = seq_2[rows-1:rows]+ aligned_seq_2\n",
        "    rows += -1\n",
        "  # rows += -1\n",
        "  # columns += -1\n",
        "  print (rows, columns)\n",
        "print (aligned_seq_1,\"\\n\",aligned_seq_2)\n"
      ],
      "execution_count": 101,
      "outputs": [
        {
          "output_type": "stream",
          "text": [
            "6 4\n",
            "5 3\n",
            "4 3\n",
            "3 2\n",
            "2 2\n",
            "1 1\n",
            "0 0\n",
            "AC-G-T \n",
            " ACGGCT\n"
          ],
          "name": "stdout"
        }
      ]
    },
    {
      "cell_type": "code",
      "metadata": {
        "id": "zrRHtOBcmBYL"
      },
      "source": [
        ""
      ],
      "execution_count": null,
      "outputs": []
    }
  ]
}